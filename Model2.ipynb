{
 "cells": [
  {
   "cell_type": "code",
   "execution_count": 1,
   "id": "a1532ca5",
   "metadata": {},
   "outputs": [],
   "source": [
    "import tensorflow as tf\n",
    "import numpy as np"
   ]
  },
  {
   "cell_type": "code",
   "execution_count": 2,
   "id": "9e7bc1e8",
   "metadata": {},
   "outputs": [],
   "source": [
    "data1 = np.load('predictive_train2.npz', allow_pickle=True)\n",
    "train_input = data1['inputs'].astype(float)\n",
    "train_targets = data1['targets'].astype(float)\n",
    "\n",
    "data2 = np.load('predictive_validation2.npz', allow_pickle=True)\n",
    "validation_input = data1['inputs'].astype(float)\n",
    "validation_targets = data1['targets'].astype(float)\n",
    "\n",
    "data3 = np.load('predictive_test2.npz', allow_pickle=True)\n",
    "test_input = data1['inputs'].astype(float)\n",
    "test_targets = data1['targets'].astype(float)"
   ]
  },
  {
   "cell_type": "code",
   "execution_count": 3,
   "id": "699223ca",
   "metadata": {},
   "outputs": [],
   "source": [
    "n_samples = len(train_targets)\n",
    "classes = np.unique(train_targets)\n",
    "n_classes = len(classes)\n",
    "\n",
    "classweight = {}\n",
    "\n",
    "for cls in classes:\n",
    "    n_cls = np.sum(train_targets == cls)\n",
    "    classweight[cls] = n_samples / (n_cls * n_classes)\n"
   ]
  },
  {
   "cell_type": "code",
   "execution_count": 4,
   "id": "a7c4e534",
   "metadata": {},
   "outputs": [],
   "source": [
    "output_layer_size = 2\n",
    "hidden_layer_size = 50\n",
    "\n",
    "model = tf.keras.Sequential([\n",
    "    tf.keras.layers.Dense(hidden_layer_size, activation='relu'),\n",
    "    tf.keras.layers.Dense(hidden_layer_size, activation='relu'),\n",
    "    tf.keras.layers.Dense(output_layer_size, activation='softmax')\n",
    "])\n",
    "\n",
    "model.compile(\n",
    "    optimizer = 'adam',\n",
    "    loss = 'sparse_categorical_crossentropy',\n",
    "    metrics = ['accuracy', tf.keras.metrics.Precision(), tf.keras.metrics.Recall()]\n",
    ")"
   ]
  },
  {
   "cell_type": "code",
   "execution_count": 7,
   "id": "2d0dd4f0",
   "metadata": {},
   "outputs": [],
   "source": [
    "\n",
    "validation_input = validation_input.reshape(-1)\n",
    "test_input = test_input.reshape(-1)"
   ]
  },
  {
   "cell_type": "code",
   "execution_count": 8,
   "id": "04fccfbf",
   "metadata": {},
   "outputs": [
    {
     "name": "stdout",
     "output_type": "stream",
     "text": [
      "Epoch 1/100\n"
     ]
    },
    {
     "ename": "ValueError",
     "evalue": "Dimensions must be equal, but are 100 and 200 for '{{node LogicalAnd_1}} = LogicalAnd[](Tile_2, Greater)' with input shapes: [1,100], [1,200].",
     "output_type": "error",
     "traceback": [
      "\u001b[1;31m---------------------------------------------------------------------------\u001b[0m",
      "\u001b[1;31mValueError\u001b[0m                                Traceback (most recent call last)",
      "Cell \u001b[1;32mIn[8], line 5\u001b[0m\n\u001b[0;32m      1\u001b[0m epoch \u001b[38;5;241m=\u001b[39m \u001b[38;5;241m100\u001b[39m\n\u001b[0;32m      2\u001b[0m early_stop \u001b[38;5;241m=\u001b[39m tf\u001b[38;5;241m.\u001b[39mkeras\u001b[38;5;241m.\u001b[39mcallbacks\u001b[38;5;241m.\u001b[39mEarlyStopping(patience \u001b[38;5;241m=\u001b[39m \u001b[38;5;241m2\u001b[39m, restore_best_weights\u001b[38;5;241m=\u001b[39m\u001b[38;5;28;01mTrue\u001b[39;00m)\n\u001b[1;32m----> 5\u001b[0m model\u001b[38;5;241m.\u001b[39mfit(\n\u001b[0;32m      6\u001b[0m     train_input,\n\u001b[0;32m      7\u001b[0m     train_targets,\n\u001b[0;32m      8\u001b[0m     batch_size \u001b[38;5;241m=\u001b[39m \u001b[38;5;241m100\u001b[39m,\n\u001b[0;32m      9\u001b[0m     class_weight \u001b[38;5;241m=\u001b[39m classweight,\n\u001b[0;32m     10\u001b[0m     epochs \u001b[38;5;241m=\u001b[39m epoch,\n\u001b[0;32m     11\u001b[0m     callbacks \u001b[38;5;241m=\u001b[39m early_stop,\n\u001b[0;32m     12\u001b[0m     validation_data \u001b[38;5;241m=\u001b[39m (validation_input, validation_targets),\n\u001b[0;32m     13\u001b[0m     verbose \u001b[38;5;241m=\u001b[39m \u001b[38;5;241m1\u001b[39m \n\u001b[0;32m     14\u001b[0m )\n",
      "File \u001b[1;32mc:\\Users\\LEGION\\anaconda3\\Lib\\site-packages\\keras\\src\\utils\\traceback_utils.py:122\u001b[0m, in \u001b[0;36mfilter_traceback.<locals>.error_handler\u001b[1;34m(*args, **kwargs)\u001b[0m\n\u001b[0;32m    119\u001b[0m     filtered_tb \u001b[38;5;241m=\u001b[39m _process_traceback_frames(e\u001b[38;5;241m.\u001b[39m__traceback__)\n\u001b[0;32m    120\u001b[0m     \u001b[38;5;66;03m# To get the full stack trace, call:\u001b[39;00m\n\u001b[0;32m    121\u001b[0m     \u001b[38;5;66;03m# `keras.config.disable_traceback_filtering()`\u001b[39;00m\n\u001b[1;32m--> 122\u001b[0m     \u001b[38;5;28;01mraise\u001b[39;00m e\u001b[38;5;241m.\u001b[39mwith_traceback(filtered_tb) \u001b[38;5;28;01mfrom\u001b[39;00m \u001b[38;5;28;01mNone\u001b[39;00m\n\u001b[0;32m    123\u001b[0m \u001b[38;5;28;01mfinally\u001b[39;00m:\n\u001b[0;32m    124\u001b[0m     \u001b[38;5;28;01mdel\u001b[39;00m filtered_tb\n",
      "File \u001b[1;32mc:\\Users\\LEGION\\anaconda3\\Lib\\site-packages\\keras\\src\\backend\\tensorflow\\numpy.py:1629\u001b[0m, in \u001b[0;36mlogical_and\u001b[1;34m(x1, x2)\u001b[0m\n\u001b[0;32m   1627\u001b[0m x1 \u001b[38;5;241m=\u001b[39m tf\u001b[38;5;241m.\u001b[39mcast(x1, \u001b[38;5;124m\"\u001b[39m\u001b[38;5;124mbool\u001b[39m\u001b[38;5;124m\"\u001b[39m)\n\u001b[0;32m   1628\u001b[0m x2 \u001b[38;5;241m=\u001b[39m tf\u001b[38;5;241m.\u001b[39mcast(x2, \u001b[38;5;124m\"\u001b[39m\u001b[38;5;124mbool\u001b[39m\u001b[38;5;124m\"\u001b[39m)\n\u001b[1;32m-> 1629\u001b[0m \u001b[38;5;28;01mreturn\u001b[39;00m tf\u001b[38;5;241m.\u001b[39mlogical_and(x1, x2)\n",
      "\u001b[1;31mValueError\u001b[0m: Dimensions must be equal, but are 100 and 200 for '{{node LogicalAnd_1}} = LogicalAnd[](Tile_2, Greater)' with input shapes: [1,100], [1,200]."
     ]
    }
   ],
   "source": [
    "epoch = 100\n",
    "early_stop = tf.keras.callbacks.EarlyStopping(patience = 2, restore_best_weights=True)\n",
    "\n",
    "\n",
    "model.fit(\n",
    "    train_input,\n",
    "    train_targets,\n",
    "    batch_size = 100,\n",
    "    class_weight = classweight,\n",
    "    epochs = epoch,\n",
    "    callbacks = early_stop,\n",
    "    validation_data = (validation_input, validation_targets),\n",
    "    verbose = 1 \n",
    ")"
   ]
  },
  {
   "cell_type": "code",
   "execution_count": null,
   "id": "584493e4",
   "metadata": {},
   "outputs": [
    {
     "name": "stdout",
     "output_type": "stream",
     "text": [
      "(64000,)\n",
      "(8000, 1)\n"
     ]
    }
   ],
   "source": [
    "print(train_input.shape)\n",
    "print(train_targets.shape)"
   ]
  },
  {
   "cell_type": "code",
   "execution_count": null,
   "id": "56bef2ec",
   "metadata": {},
   "outputs": [
    {
     "data": {
      "text/plain": [
       "(64000,)"
      ]
     },
     "execution_count": 57,
     "metadata": {},
     "output_type": "execute_result"
    }
   ],
   "source": [
    "test_input.shape"
   ]
  }
 ],
 "metadata": {
  "kernelspec": {
   "display_name": "base",
   "language": "python",
   "name": "python3"
  },
  "language_info": {
   "codemirror_mode": {
    "name": "ipython",
    "version": 3
   },
   "file_extension": ".py",
   "mimetype": "text/x-python",
   "name": "python",
   "nbconvert_exporter": "python",
   "pygments_lexer": "ipython3",
   "version": "3.11.11"
  }
 },
 "nbformat": 4,
 "nbformat_minor": 5
}
