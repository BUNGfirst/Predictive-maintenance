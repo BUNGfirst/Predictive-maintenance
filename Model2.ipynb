{
 "cells": [
  {
   "cell_type": "code",
   "execution_count": 47,
   "id": "a1532ca5",
   "metadata": {},
   "outputs": [],
   "source": [
    "import tensorflow as tf\n",
    "import numpy as np"
   ]
  },
  {
   "cell_type": "code",
   "execution_count": 48,
   "id": "9e7bc1e8",
   "metadata": {},
   "outputs": [],
   "source": [
    "data1 = np.load('predictive_train2.npz', allow_pickle=True)\n",
    "train_input = data1['inputs'].astype(float)\n",
    "train_targets = data1['targets'].astype(float)\n",
    "\n",
    "data2 = np.load('predictive_validation2.npz', allow_pickle=True)\n",
    "validation_input = data2['inputs'].astype(float)\n",
    "validation_targets = data2['targets'].astype(float)\n",
    "\n",
    "data3 = np.load('predictive_test2.npz', allow_pickle=True)\n",
    "test_input = data3['inputs'].astype(float)\n",
    "test_targets = data3['targets'].astype(float)"
   ]
  },
  {
   "cell_type": "code",
   "execution_count": 49,
   "id": "699223ca",
   "metadata": {},
   "outputs": [],
   "source": [
    "n_samples = len(train_targets)\n",
    "classes = np.unique(train_targets)\n",
    "n_classes = len(classes)\n",
    "\n",
    "classweight = {}\n",
    "\n",
    "for cls in classes:\n",
    "    n_cls = np.sum(train_targets == cls)\n",
    "    classweight[cls] = n_samples / (n_cls * n_classes)\n"
   ]
  },
  {
   "cell_type": "code",
   "execution_count": 58,
   "id": "a7c4e534",
   "metadata": {},
   "outputs": [],
   "source": [
    "output_layer_size = 6\n",
    "hidden_layer_size = 50\n",
    "\n",
    "model = tf.keras.Sequential([\n",
    "    tf.keras.layers.Dense(hidden_layer_size, activation='relu'),\n",
    "    tf.keras.layers.Dense(hidden_layer_size, activation='relu'),\n",
    "    tf.keras.layers.Dense(output_layer_size, activation='softmax')\n",
    "])\n",
    "\n",
    "model.compile(\n",
    "    optimizer = 'adam',\n",
    "    loss = 'sparse_categorical_crossentropy',\n",
    "    metrics = ['accuracy']\n",
    ")"
   ]
  },
  {
   "cell_type": "code",
   "execution_count": 51,
   "id": "2d0dd4f0",
   "metadata": {},
   "outputs": [],
   "source": [
    "train_targets = train_targets.reshape(-1)\n",
    "validation_targets = validation_targets.reshape(-1)\n",
    "test_targets = test_targets.reshape(-1)"
   ]
  },
  {
   "cell_type": "code",
   "execution_count": 61,
   "id": "04fccfbf",
   "metadata": {},
   "outputs": [
    {
     "name": "stdout",
     "output_type": "stream",
     "text": [
      "Epoch 1/100\n",
      "\u001b[1m80/80\u001b[0m \u001b[32m━━━━━━━━━━━━━━━━━━━━\u001b[0m\u001b[37m\u001b[0m \u001b[1m0s\u001b[0m 3ms/step - accuracy: 0.5735 - loss: 0.6398 - val_accuracy: 0.5800 - val_loss: 1.0033\n",
      "Epoch 2/100\n",
      "\u001b[1m80/80\u001b[0m \u001b[32m━━━━━━━━━━━━━━━━━━━━\u001b[0m\u001b[37m\u001b[0m \u001b[1m0s\u001b[0m 2ms/step - accuracy: 0.5447 - loss: 0.5907 - val_accuracy: 0.6130 - val_loss: 0.9119\n",
      "Epoch 3/100\n",
      "\u001b[1m80/80\u001b[0m \u001b[32m━━━━━━━━━━━━━━━━━━━━\u001b[0m\u001b[37m\u001b[0m \u001b[1m0s\u001b[0m 2ms/step - accuracy: 0.5885 - loss: 0.5611 - val_accuracy: 0.5860 - val_loss: 0.9751\n",
      "Epoch 4/100\n",
      "\u001b[1m80/80\u001b[0m \u001b[32m━━━━━━━━━━━━━━━━━━━━\u001b[0m\u001b[37m\u001b[0m \u001b[1m0s\u001b[0m 2ms/step - accuracy: 0.5986 - loss: 0.4775 - val_accuracy: 0.5650 - val_loss: 0.9101\n",
      "Epoch 5/100\n",
      "\u001b[1m80/80\u001b[0m \u001b[32m━━━━━━━━━━━━━━━━━━━━\u001b[0m\u001b[37m\u001b[0m \u001b[1m0s\u001b[0m 2ms/step - accuracy: 0.5791 - loss: 0.4850 - val_accuracy: 0.6090 - val_loss: 0.8912\n",
      "Epoch 6/100\n",
      "\u001b[1m80/80\u001b[0m \u001b[32m━━━━━━━━━━━━━━━━━━━━\u001b[0m\u001b[37m\u001b[0m \u001b[1m0s\u001b[0m 2ms/step - accuracy: 0.6291 - loss: 0.4154 - val_accuracy: 0.6160 - val_loss: 0.8679\n",
      "Epoch 7/100\n",
      "\u001b[1m80/80\u001b[0m \u001b[32m━━━━━━━━━━━━━━━━━━━━\u001b[0m\u001b[37m\u001b[0m \u001b[1m0s\u001b[0m 2ms/step - accuracy: 0.6306 - loss: 0.4079 - val_accuracy: 0.5850 - val_loss: 0.8616\n",
      "Epoch 8/100\n",
      "\u001b[1m80/80\u001b[0m \u001b[32m━━━━━━━━━━━━━━━━━━━━\u001b[0m\u001b[37m\u001b[0m \u001b[1m0s\u001b[0m 2ms/step - accuracy: 0.6509 - loss: 0.4204 - val_accuracy: 0.5530 - val_loss: 0.9891\n",
      "Epoch 9/100\n",
      "\u001b[1m80/80\u001b[0m \u001b[32m━━━━━━━━━━━━━━━━━━━━\u001b[0m\u001b[37m\u001b[0m \u001b[1m0s\u001b[0m 2ms/step - accuracy: 0.6002 - loss: 0.4353 - val_accuracy: 0.6500 - val_loss: 0.7551\n",
      "Epoch 10/100\n",
      "\u001b[1m80/80\u001b[0m \u001b[32m━━━━━━━━━━━━━━━━━━━━\u001b[0m\u001b[37m\u001b[0m \u001b[1m0s\u001b[0m 2ms/step - accuracy: 0.6631 - loss: 0.4412 - val_accuracy: 0.6740 - val_loss: 0.7535\n",
      "Epoch 11/100\n",
      "\u001b[1m80/80\u001b[0m \u001b[32m━━━━━━━━━━━━━━━━━━━━\u001b[0m\u001b[37m\u001b[0m \u001b[1m0s\u001b[0m 2ms/step - accuracy: 0.6900 - loss: 0.4181 - val_accuracy: 0.6600 - val_loss: 0.7448\n",
      "Epoch 12/100\n",
      "\u001b[1m80/80\u001b[0m \u001b[32m━━━━━━━━━━━━━━━━━━━━\u001b[0m\u001b[37m\u001b[0m \u001b[1m0s\u001b[0m 2ms/step - accuracy: 0.6655 - loss: 0.3560 - val_accuracy: 0.6320 - val_loss: 0.8194\n",
      "Epoch 13/100\n",
      "\u001b[1m80/80\u001b[0m \u001b[32m━━━━━━━━━━━━━━━━━━━━\u001b[0m\u001b[37m\u001b[0m \u001b[1m0s\u001b[0m 3ms/step - accuracy: 0.6992 - loss: 0.3316 - val_accuracy: 0.6060 - val_loss: 0.8330\n"
     ]
    },
    {
     "data": {
      "text/plain": [
       "<keras.src.callbacks.history.History at 0x1dfe0433410>"
      ]
     },
     "execution_count": 61,
     "metadata": {},
     "output_type": "execute_result"
    }
   ],
   "source": [
    "epoch = 100\n",
    "early_stop = tf.keras.callbacks.EarlyStopping(patience = 2, restore_best_weights=True)\n",
    "\n",
    "\n",
    "model.fit(\n",
    "    train_input,\n",
    "    train_targets,\n",
    "    batch_size = 100,\n",
    "    class_weight = classweight,\n",
    "    epochs = epoch,\n",
    "    callbacks = early_stop,\n",
    "    validation_data = (validation_input, validation_targets),\n",
    "    verbose = 1 \n",
    ")"
   ]
  },
  {
   "cell_type": "code",
   "execution_count": 62,
   "id": "584493e4",
   "metadata": {},
   "outputs": [
    {
     "name": "stdout",
     "output_type": "stream",
     "text": [
      "\u001b[1m32/32\u001b[0m \u001b[32m━━━━━━━━━━━━━━━━━━━━\u001b[0m\u001b[37m\u001b[0m \u001b[1m0s\u001b[0m 3ms/step - accuracy: 0.6584 - loss: 0.7129 \n"
     ]
    },
    {
     "data": {
      "text/plain": [
       "[0.7185994386672974, 0.6840000152587891]"
      ]
     },
     "execution_count": 62,
     "metadata": {},
     "output_type": "execute_result"
    }
   ],
   "source": [
    "model.evaluate(test_input, test_targets)"
   ]
  },
  {
   "cell_type": "code",
   "execution_count": null,
   "id": "a45af798",
   "metadata": {},
   "outputs": [
    {
     "name": "stdout",
     "output_type": "stream",
     "text": [
      "\u001b[1m32/32\u001b[0m \u001b[32m━━━━━━━━━━━━━━━━━━━━\u001b[0m\u001b[37m\u001b[0m \u001b[1m0s\u001b[0m 2ms/step\n"
     ]
    },
    {
     "data": {
      "image/png": "[encoded data removed]",
      "text/plain": [
       "<Figure size 640x480 with 2 Axes>"
      ]
     },
     "metadata": {},
     "output_type": "display_data"
    }
   ],
   "source": [
    "from sklearn.metrics import confusion_matrix, ConfusionMatrixDisplay\n",
    "import matplotlib.pyplot as plt\n",
    "\n",
    "y_pred = model.predict(test_input).argmax(axis=1)\n",
    "\n",
    "cm = confusion_matrix(test_targets, y_pred)\n",
    "\n",
    "\n",
    "disp = ConfusionMatrixDisplay(confusion_matrix=cm)\n",
    "disp.plot(cmap='Blues', xticks_rotation='vertical')\n",
    "plt.title(\"Confusion Matrix (Test Set)\")\n",
    "plt.show()"
   ]
  }
 ],
 "metadata": {
  "kernelspec": {
   "display_name": "base",
   "language": "python",
   "name": "python3"
  },
  "language_info": {
   "codemirror_mode": {
    "name": "ipython",
    "version": 3
   },
   "file_extension": ".py",
   "mimetype": "text/x-python",
   "name": "python",
   "nbconvert_exporter": "python",
   "pygments_lexer": "ipython3",
   "version": "3.11.11"
  }
 },
 "nbformat": 4,
 "nbformat_minor": 5
}
