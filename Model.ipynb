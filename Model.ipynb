{
 "cells": [
  {
   "cell_type": "code",
   "execution_count": 38,
   "id": "a1da2d39",
   "metadata": {},
   "outputs": [],
   "source": [
    "import numpy as np\n",
    "import tensorflow as tf"
   ]
  },
  {
   "cell_type": "code",
   "execution_count": 39,
   "id": "38b1ca47",
   "metadata": {},
   "outputs": [],
   "source": [
    "data1 = np.load('predictive_train.npz', allow_pickle=True)\n",
    "train_inputs = data1['inputs'].astype(float)\n",
    "train_targets = data1['targets'].astype(float)\n",
    "\n",
    "data2 = np.load('predictive_validation.npz', allow_pickle=True)\n",
    "validation_inputs = data2['inputs'].astype(float)\n",
    "validation_targets = data2['targets'].astype(float)\n",
    "\n",
    "data3 = np.load('predictive_test.npz', allow_pickle=True)\n",
    "test_inputs = data3['inputs'].astype(float)\n",
    "test_targets = data3['targets'].astype(float)"
   ]
  },
  {
   "cell_type": "code",
   "execution_count": 40,
   "id": "ca00b84f",
   "metadata": {},
   "outputs": [
    {
     "data": {
      "text/plain": [
       "(542, 8)"
      ]
     },
     "execution_count": 40,
     "metadata": {},
     "output_type": "execute_result"
    }
   ],
   "source": [
    "train_inputs.shape"
   ]
  },
  {
   "cell_type": "code",
   "execution_count": 41,
   "id": "f35752b6",
   "metadata": {},
   "outputs": [],
   "source": [
    "hidden_layer = 50\n",
    "input_size = 8\n",
    "output_size = 1\n",
    "\n",
    "model = tf.keras.Sequential([\n",
    "    tf.keras.layers.Dense(hidden_layer, activation = 'relu'),\n",
    "    tf.keras.layers.Dense(hidden_layer, activation = 'relu'),\n",
    "    tf.keras.layers.Dense(output_size, activation = 'sigmoid')\n",
    "])\n",
    "\n",
    "model.compile(\n",
    "    optimizer = 'adam', \n",
    "    loss = 'binary_crossentropy',\n",
    "    metrics = ['accuracy', tf.keras.metrics.Precision(), tf.keras.metrics.Recall()]\n",
    ")"
   ]
  },
  {
   "cell_type": "code",
   "execution_count": 42,
   "id": "8fcc6159",
   "metadata": {},
   "outputs": [
    {
     "name": "stdout",
     "output_type": "stream",
     "text": [
      "Epoch 1/100\n"
     ]
    },
    {
     "name": "stdout",
     "output_type": "stream",
     "text": [
      "\u001b[1m6/6\u001b[0m \u001b[32m━━━━━━━━━━━━━━━━━━━━\u001b[0m\u001b[37m\u001b[0m \u001b[1m2s\u001b[0m 94ms/step - accuracy: 0.5014 - loss: 0.6911 - precision_2: 0.4752 - recall_1: 0.4222 - val_accuracy: 0.5821 - val_loss: 0.6724 - val_precision_2: 0.5366 - val_recall_1: 0.7097\n",
      "Epoch 2/100\n",
      "\u001b[1m6/6\u001b[0m \u001b[32m━━━━━━━━━━━━━━━━━━━━\u001b[0m\u001b[37m\u001b[0m \u001b[1m0s\u001b[0m 16ms/step - accuracy: 0.6915 - loss: 0.6423 - precision_2: 0.6624 - recall_1: 0.7625 - val_accuracy: 0.7313 - val_loss: 0.6348 - val_precision_2: 0.6512 - val_recall_1: 0.9032\n",
      "Epoch 3/100\n",
      "\u001b[1m6/6\u001b[0m \u001b[32m━━━━━━━━━━━━━━━━━━━━\u001b[0m\u001b[37m\u001b[0m \u001b[1m0s\u001b[0m 16ms/step - accuracy: 0.7261 - loss: 0.6001 - precision_2: 0.6845 - recall_1: 0.8123 - val_accuracy: 0.7612 - val_loss: 0.6033 - val_precision_2: 0.6829 - val_recall_1: 0.9032\n",
      "Epoch 4/100\n",
      "\u001b[1m6/6\u001b[0m \u001b[32m━━━━━━━━━━━━━━━━━━━━\u001b[0m\u001b[37m\u001b[0m \u001b[1m0s\u001b[0m 16ms/step - accuracy: 0.7559 - loss: 0.5672 - precision_2: 0.7201 - recall_1: 0.8387 - val_accuracy: 0.7761 - val_loss: 0.5739 - val_precision_2: 0.7105 - val_recall_1: 0.8710\n",
      "Epoch 5/100\n",
      "\u001b[1m6/6\u001b[0m \u001b[32m━━━━━━━━━━━━━━━━━━━━\u001b[0m\u001b[37m\u001b[0m \u001b[1m0s\u001b[0m 16ms/step - accuracy: 0.7658 - loss: 0.5482 - precision_2: 0.7197 - recall_1: 0.8434 - val_accuracy: 0.7910 - val_loss: 0.5447 - val_precision_2: 0.7297 - val_recall_1: 0.8710\n",
      "Epoch 6/100\n",
      "\u001b[1m6/6\u001b[0m \u001b[32m━━━━━━━━━━━━━━━━━━━━\u001b[0m\u001b[37m\u001b[0m \u001b[1m0s\u001b[0m 23ms/step - accuracy: 0.7836 - loss: 0.5133 - precision_2: 0.7368 - recall_1: 0.8518 - val_accuracy: 0.8060 - val_loss: 0.5182 - val_precision_2: 0.7500 - val_recall_1: 0.8710\n",
      "Epoch 7/100\n",
      "\u001b[1m6/6\u001b[0m \u001b[32m━━━━━━━━━━━━━━━━━━━━\u001b[0m\u001b[37m\u001b[0m \u001b[1m0s\u001b[0m 19ms/step - accuracy: 0.7637 - loss: 0.4998 - precision_2: 0.7290 - recall_1: 0.8272 - val_accuracy: 0.8209 - val_loss: 0.4937 - val_precision_2: 0.7568 - val_recall_1: 0.9032\n",
      "Epoch 8/100\n",
      "\u001b[1m6/6\u001b[0m \u001b[32m━━━━━━━━━━━━━━━━━━━━\u001b[0m\u001b[37m\u001b[0m \u001b[1m0s\u001b[0m 26ms/step - accuracy: 0.7974 - loss: 0.4709 - precision_2: 0.7597 - recall_1: 0.8664 - val_accuracy: 0.8209 - val_loss: 0.4705 - val_precision_2: 0.7568 - val_recall_1: 0.9032\n",
      "Epoch 9/100\n",
      "\u001b[1m6/6\u001b[0m \u001b[32m━━━━━━━━━━━━━━━━━━━━\u001b[0m\u001b[37m\u001b[0m \u001b[1m0s\u001b[0m 15ms/step - accuracy: 0.8217 - loss: 0.4473 - precision_2: 0.7908 - recall_1: 0.8758 - val_accuracy: 0.8060 - val_loss: 0.4475 - val_precision_2: 0.7500 - val_recall_1: 0.8710\n",
      "Epoch 10/100\n",
      "\u001b[1m6/6\u001b[0m \u001b[32m━━━━━━━━━━━━━━━━━━━━\u001b[0m\u001b[37m\u001b[0m \u001b[1m0s\u001b[0m 16ms/step - accuracy: 0.8179 - loss: 0.4300 - precision_2: 0.7813 - recall_1: 0.8712 - val_accuracy: 0.8657 - val_loss: 0.4249 - val_precision_2: 0.8056 - val_recall_1: 0.9355\n",
      "Epoch 11/100\n",
      "\u001b[1m6/6\u001b[0m \u001b[32m━━━━━━━━━━━━━━━━━━━━\u001b[0m\u001b[37m\u001b[0m \u001b[1m0s\u001b[0m 16ms/step - accuracy: 0.8298 - loss: 0.4077 - precision_2: 0.7982 - recall_1: 0.8698 - val_accuracy: 0.8507 - val_loss: 0.4073 - val_precision_2: 0.7838 - val_recall_1: 0.9355\n",
      "Epoch 12/100\n",
      "\u001b[1m6/6\u001b[0m \u001b[32m━━━━━━━━━━━━━━━━━━━━\u001b[0m\u001b[37m\u001b[0m \u001b[1m0s\u001b[0m 15ms/step - accuracy: 0.8254 - loss: 0.3988 - precision_2: 0.7987 - recall_1: 0.8674 - val_accuracy: 0.8507 - val_loss: 0.3910 - val_precision_2: 0.7838 - val_recall_1: 0.9355\n",
      "Epoch 13/100\n",
      "\u001b[1m6/6\u001b[0m \u001b[32m━━━━━━━━━━━━━━━━━━━━\u001b[0m\u001b[37m\u001b[0m \u001b[1m0s\u001b[0m 16ms/step - accuracy: 0.8383 - loss: 0.3712 - precision_2: 0.8195 - recall_1: 0.8587 - val_accuracy: 0.8507 - val_loss: 0.3761 - val_precision_2: 0.7838 - val_recall_1: 0.9355\n",
      "Epoch 14/100\n",
      "\u001b[1m6/6\u001b[0m \u001b[32m━━━━━━━━━━━━━━━━━━━━\u001b[0m\u001b[37m\u001b[0m \u001b[1m0s\u001b[0m 15ms/step - accuracy: 0.8328 - loss: 0.3637 - precision_2: 0.8217 - recall_1: 0.8514 - val_accuracy: 0.8507 - val_loss: 0.3627 - val_precision_2: 0.7838 - val_recall_1: 0.9355\n",
      "Epoch 15/100\n",
      "\u001b[1m6/6\u001b[0m \u001b[32m━━━━━━━━━━━━━━━━━━━━\u001b[0m\u001b[37m\u001b[0m \u001b[1m0s\u001b[0m 16ms/step - accuracy: 0.8376 - loss: 0.3478 - precision_2: 0.8386 - recall_1: 0.8483 - val_accuracy: 0.8657 - val_loss: 0.3554 - val_precision_2: 0.7895 - val_recall_1: 0.9677\n",
      "Epoch 16/100\n",
      "\u001b[1m6/6\u001b[0m \u001b[32m━━━━━━━━━━━━━━━━━━━━\u001b[0m\u001b[37m\u001b[0m \u001b[1m0s\u001b[0m 18ms/step - accuracy: 0.8494 - loss: 0.3451 - precision_2: 0.8337 - recall_1: 0.8670 - val_accuracy: 0.8657 - val_loss: 0.3470 - val_precision_2: 0.7895 - val_recall_1: 0.9677\n",
      "Epoch 17/100\n",
      "\u001b[1m6/6\u001b[0m \u001b[32m━━━━━━━━━━━━━━━━━━━━\u001b[0m\u001b[37m\u001b[0m \u001b[1m0s\u001b[0m 17ms/step - accuracy: 0.8461 - loss: 0.3342 - precision_2: 0.8445 - recall_1: 0.8517 - val_accuracy: 0.8657 - val_loss: 0.3421 - val_precision_2: 0.7895 - val_recall_1: 0.9677\n",
      "Epoch 18/100\n",
      "\u001b[1m6/6\u001b[0m \u001b[32m━━━━━━━━━━━━━━━━━━━━\u001b[0m\u001b[37m\u001b[0m \u001b[1m0s\u001b[0m 16ms/step - accuracy: 0.8856 - loss: 0.3062 - precision_2: 0.8869 - recall_1: 0.8726 - val_accuracy: 0.8657 - val_loss: 0.3361 - val_precision_2: 0.7895 - val_recall_1: 0.9677\n",
      "Epoch 19/100\n",
      "\u001b[1m6/6\u001b[0m \u001b[32m━━━━━━━━━━━━━━━━━━━━\u001b[0m\u001b[37m\u001b[0m \u001b[1m0s\u001b[0m 15ms/step - accuracy: 0.8771 - loss: 0.2936 - precision_2: 0.8765 - recall_1: 0.8665 - val_accuracy: 0.8657 - val_loss: 0.3290 - val_precision_2: 0.7895 - val_recall_1: 0.9677\n",
      "Epoch 20/100\n",
      "\u001b[1m6/6\u001b[0m \u001b[32m━━━━━━━━━━━━━━━━━━━━\u001b[0m\u001b[37m\u001b[0m \u001b[1m0s\u001b[0m 15ms/step - accuracy: 0.8618 - loss: 0.3185 - precision_2: 0.8560 - recall_1: 0.8630 - val_accuracy: 0.8657 - val_loss: 0.3267 - val_precision_2: 0.7895 - val_recall_1: 0.9677\n",
      "Epoch 21/100\n",
      "\u001b[1m6/6\u001b[0m \u001b[32m━━━━━━━━━━━━━━━━━━━━\u001b[0m\u001b[37m\u001b[0m \u001b[1m0s\u001b[0m 18ms/step - accuracy: 0.8577 - loss: 0.3054 - precision_2: 0.8426 - recall_1: 0.8660 - val_accuracy: 0.8657 - val_loss: 0.3298 - val_precision_2: 0.7895 - val_recall_1: 0.9677\n",
      "Epoch 22/100\n",
      "\u001b[1m6/6\u001b[0m \u001b[32m━━━━━━━━━━━━━━━━━━━━\u001b[0m\u001b[37m\u001b[0m \u001b[1m0s\u001b[0m 16ms/step - accuracy: 0.8638 - loss: 0.2830 - precision_2: 0.8432 - recall_1: 0.8791 - val_accuracy: 0.8657 - val_loss: 0.3260 - val_precision_2: 0.7895 - val_recall_1: 0.9677\n",
      "Epoch 23/100\n",
      "\u001b[1m6/6\u001b[0m \u001b[32m━━━━━━━━━━━━━━━━━━━━\u001b[0m\u001b[37m\u001b[0m \u001b[1m0s\u001b[0m 17ms/step - accuracy: 0.8665 - loss: 0.2868 - precision_2: 0.8630 - recall_1: 0.8667 - val_accuracy: 0.8657 - val_loss: 0.3203 - val_precision_2: 0.7895 - val_recall_1: 0.9677\n",
      "Epoch 24/100\n",
      "\u001b[1m6/6\u001b[0m \u001b[32m━━━━━━━━━━━━━━━━━━━━\u001b[0m\u001b[37m\u001b[0m \u001b[1m0s\u001b[0m 20ms/step - accuracy: 0.8863 - loss: 0.2718 - precision_2: 0.8900 - recall_1: 0.8870 - val_accuracy: 0.8657 - val_loss: 0.3129 - val_precision_2: 0.7895 - val_recall_1: 0.9677\n",
      "Epoch 25/100\n",
      "\u001b[1m6/6\u001b[0m \u001b[32m━━━━━━━━━━━━━━━━━━━━\u001b[0m\u001b[37m\u001b[0m \u001b[1m0s\u001b[0m 16ms/step - accuracy: 0.8734 - loss: 0.2838 - precision_2: 0.8832 - recall_1: 0.8594 - val_accuracy: 0.8507 - val_loss: 0.3073 - val_precision_2: 0.7838 - val_recall_1: 0.9355\n",
      "Epoch 26/100\n",
      "\u001b[1m6/6\u001b[0m \u001b[32m━━━━━━━━━━━━━━━━━━━━\u001b[0m\u001b[37m\u001b[0m \u001b[1m0s\u001b[0m 16ms/step - accuracy: 0.8709 - loss: 0.2836 - precision_2: 0.8772 - recall_1: 0.8702 - val_accuracy: 0.8657 - val_loss: 0.3128 - val_precision_2: 0.7895 - val_recall_1: 0.9677\n",
      "Epoch 27/100\n",
      "\u001b[1m6/6\u001b[0m \u001b[32m━━━━━━━━━━━━━━━━━━━━\u001b[0m\u001b[37m\u001b[0m \u001b[1m0s\u001b[0m 17ms/step - accuracy: 0.8864 - loss: 0.2690 - precision_2: 0.8935 - recall_1: 0.8890 - val_accuracy: 0.8657 - val_loss: 0.3145 - val_precision_2: 0.7895 - val_recall_1: 0.9677\n"
     ]
    },
    {
     "data": {
      "text/plain": [
       "<keras.src.callbacks.history.History at 0x182c67287d0>"
      ]
     },
     "execution_count": 42,
     "metadata": {},
     "output_type": "execute_result"
    }
   ],
   "source": [
    "epoch = 100\n",
    "early_stop = tf.keras.callbacks.EarlyStopping(patience = 2, restore_best_weights=True)\n",
    "\n",
    "model.fit(\n",
    "    train_inputs,\n",
    "    train_targets,\n",
    "    batch_size = 100,\n",
    "    callbacks = early_stop,\n",
    "    epochs = 100,\n",
    "    validation_data = (validation_inputs, validation_targets),\n",
    "    verbose = 1\n",
    ")"
   ]
  },
  {
   "cell_type": "code",
   "execution_count": 43,
   "id": "e219ebd9",
   "metadata": {},
   "outputs": [
    {
     "name": "stdout",
     "output_type": "stream",
     "text": [
      "\u001b[1m3/3\u001b[0m \u001b[32m━━━━━━━━━━━━━━━━━━━━\u001b[0m\u001b[37m\u001b[0m \u001b[1m0s\u001b[0m 16ms/step - accuracy: 0.9102 - loss: 0.2579 - precision_2: 0.9259 - recall_1: 0.9141\n"
     ]
    },
    {
     "data": {
      "text/plain": [
       "[0.2660767436027527,\n",
       " 0.8985507488250732,\n",
       " 0.9210526347160339,\n",
       " 0.8974359035491943]"
      ]
     },
     "execution_count": 43,
     "metadata": {},
     "output_type": "execute_result"
    }
   ],
   "source": [
    "model.evaluate(test_inputs, test_targets)"
   ]
  }
 ],
 "metadata": {
  "kernelspec": {
   "display_name": "base",
   "language": "python",
   "name": "python3"
  },
  "language_info": {
   "codemirror_mode": {
    "name": "ipython",
    "version": 3
   },
   "file_extension": ".py",
   "mimetype": "text/x-python",
   "name": "python",
   "nbconvert_exporter": "python",
   "pygments_lexer": "ipython3",
   "version": "3.11.11"
  }
 },
 "nbformat": 4,
 "nbformat_minor": 5
}
